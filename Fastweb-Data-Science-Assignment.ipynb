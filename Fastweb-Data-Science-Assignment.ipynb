{
 "cells": [
  {
   "cell_type": "markdown",
   "id": "5e2079be",
   "metadata": {},
   "source": [
    "## Bank Term Deposit Acceptance forecasting"
   ]
  },
  {
   "cell_type": "markdown",
   "id": "34454cc3",
   "metadata": {},
   "source": [
    "Obiettivo di questo assignment è la valutazione delle competenze tecniche del candidato e la sua modalità di approccio ad un problema di Data Science. Nello specifico è richiesto di sviluppare un modello predittivo in grado di indicare se un cliente intercettato da una campagna di marketing da parte di una banca decide di sottoscrivere o meno un deposito bancario a termine (bank term deposit).\n",
    "\n",
    "#### Dataset: ####\n",
    "\n",
    "All'interno della cartella **data**  viene fornito il file **bank-dataset.csv** che contiene le campagne marketing telefoniche effettuate da una banca per proporre l'acquisto del prodotto bancario.\n",
    "I dettagli del dataset sono forniti all'interno del file: **bank-names.txt**.\n",
    "La variabile target che indica se il cliente accetta o meno la sottoscrizione del deposito bancario è contenuta nel medesimo file con field name \"y\".\n",
    "\n",
    "#### Assignment: ####\n",
    "\n",
    "Richiesta di questo assignment è la costruzione di un modello predittivo con performance soddisfacenti per il candidato dando evidenza di tutti gli step tipici che dovrebbero essere affrontati in un progetto di Data Science: dalla pulizia e preparazione del dato fino al testing delle performance del modello costruito.\n",
    "\n",
    "Il notebook svolto dovrà essere opportunamente commentato e dovrà essere consegnato tramite condivisione di un repository github personale accessibile che ne permetta la riproduzione."
   ]
  },
  {
   "cell_type": "code",
   "execution_count": null,
   "id": "49666ca4",
   "metadata": {
    "scrolled": true
   },
   "outputs": [],
   "source": [
    "pip install -U ydata-profiling"
   ]
  },
  {
   "cell_type": "code",
   "execution_count": 1,
   "id": "14ad1a82",
   "metadata": {},
   "outputs": [],
   "source": [
    "import numpy as np\n",
    "import pandas as pd\n",
    "from ydata_profiling import ProfileReport"
   ]
  },
  {
   "cell_type": "code",
   "execution_count": 2,
   "id": "11718fb4",
   "metadata": {},
   "outputs": [],
   "source": [
    "df = pd.read_csv('bank-dataset.csv')"
   ]
  },
  {
   "cell_type": "code",
   "execution_count": 3,
   "id": "01ff9c87",
   "metadata": {},
   "outputs": [
    {
     "data": {
      "text/html": [
       "<div>\n",
       "<style scoped>\n",
       "    .dataframe tbody tr th:only-of-type {\n",
       "        vertical-align: middle;\n",
       "    }\n",
       "\n",
       "    .dataframe tbody tr th {\n",
       "        vertical-align: top;\n",
       "    }\n",
       "\n",
       "    .dataframe thead th {\n",
       "        text-align: right;\n",
       "    }\n",
       "</style>\n",
       "<table border=\"1\" class=\"dataframe\">\n",
       "  <thead>\n",
       "    <tr style=\"text-align: right;\">\n",
       "      <th></th>\n",
       "      <th>age</th>\n",
       "      <th>job</th>\n",
       "      <th>marital</th>\n",
       "      <th>education</th>\n",
       "      <th>default</th>\n",
       "      <th>balance</th>\n",
       "      <th>housing</th>\n",
       "      <th>loan</th>\n",
       "      <th>contact</th>\n",
       "      <th>day</th>\n",
       "      <th>month</th>\n",
       "      <th>duration</th>\n",
       "      <th>campaign</th>\n",
       "      <th>pdays</th>\n",
       "      <th>previous</th>\n",
       "      <th>poutcome</th>\n",
       "      <th>y</th>\n",
       "    </tr>\n",
       "  </thead>\n",
       "  <tbody>\n",
       "    <tr>\n",
       "      <th>0</th>\n",
       "      <td>58.0</td>\n",
       "      <td>management</td>\n",
       "      <td>married</td>\n",
       "      <td>tertiary</td>\n",
       "      <td>no</td>\n",
       "      <td>2143</td>\n",
       "      <td>yes</td>\n",
       "      <td>no</td>\n",
       "      <td>unknown</td>\n",
       "      <td>5</td>\n",
       "      <td>may</td>\n",
       "      <td>261.0</td>\n",
       "      <td>1</td>\n",
       "      <td>-1</td>\n",
       "      <td>0</td>\n",
       "      <td>unknown</td>\n",
       "      <td>no</td>\n",
       "    </tr>\n",
       "    <tr>\n",
       "      <th>1</th>\n",
       "      <td>44.0</td>\n",
       "      <td>technician</td>\n",
       "      <td>single</td>\n",
       "      <td>secondary</td>\n",
       "      <td>no</td>\n",
       "      <td>29</td>\n",
       "      <td>yes</td>\n",
       "      <td>no</td>\n",
       "      <td>unknown</td>\n",
       "      <td>5</td>\n",
       "      <td>may</td>\n",
       "      <td>151.0</td>\n",
       "      <td>1</td>\n",
       "      <td>-1</td>\n",
       "      <td>0</td>\n",
       "      <td>unknown</td>\n",
       "      <td>no</td>\n",
       "    </tr>\n",
       "    <tr>\n",
       "      <th>2</th>\n",
       "      <td>33.0</td>\n",
       "      <td>entrepreneur</td>\n",
       "      <td>married</td>\n",
       "      <td>secondary</td>\n",
       "      <td>no</td>\n",
       "      <td>2</td>\n",
       "      <td>yes</td>\n",
       "      <td>yes</td>\n",
       "      <td>unknown</td>\n",
       "      <td>5</td>\n",
       "      <td>may</td>\n",
       "      <td>76.0</td>\n",
       "      <td>1</td>\n",
       "      <td>-1</td>\n",
       "      <td>0</td>\n",
       "      <td>unknown</td>\n",
       "      <td>no</td>\n",
       "    </tr>\n",
       "    <tr>\n",
       "      <th>3</th>\n",
       "      <td>47.0</td>\n",
       "      <td>blue-collar</td>\n",
       "      <td>married</td>\n",
       "      <td>unknown</td>\n",
       "      <td>no</td>\n",
       "      <td>1506</td>\n",
       "      <td>yes</td>\n",
       "      <td>no</td>\n",
       "      <td>unknown</td>\n",
       "      <td>5</td>\n",
       "      <td>may</td>\n",
       "      <td>92.0</td>\n",
       "      <td>1</td>\n",
       "      <td>-1</td>\n",
       "      <td>0</td>\n",
       "      <td>unknown</td>\n",
       "      <td>no</td>\n",
       "    </tr>\n",
       "    <tr>\n",
       "      <th>4</th>\n",
       "      <td>33.0</td>\n",
       "      <td>unknown</td>\n",
       "      <td>single</td>\n",
       "      <td>unknown</td>\n",
       "      <td>no</td>\n",
       "      <td>1</td>\n",
       "      <td>no</td>\n",
       "      <td>no</td>\n",
       "      <td>unknown</td>\n",
       "      <td>5</td>\n",
       "      <td>may</td>\n",
       "      <td>198.0</td>\n",
       "      <td>1</td>\n",
       "      <td>-1</td>\n",
       "      <td>0</td>\n",
       "      <td>unknown</td>\n",
       "      <td>no</td>\n",
       "    </tr>\n",
       "    <tr>\n",
       "      <th>...</th>\n",
       "      <td>...</td>\n",
       "      <td>...</td>\n",
       "      <td>...</td>\n",
       "      <td>...</td>\n",
       "      <td>...</td>\n",
       "      <td>...</td>\n",
       "      <td>...</td>\n",
       "      <td>...</td>\n",
       "      <td>...</td>\n",
       "      <td>...</td>\n",
       "      <td>...</td>\n",
       "      <td>...</td>\n",
       "      <td>...</td>\n",
       "      <td>...</td>\n",
       "      <td>...</td>\n",
       "      <td>...</td>\n",
       "      <td>...</td>\n",
       "    </tr>\n",
       "    <tr>\n",
       "      <th>43092</th>\n",
       "      <td>25.0</td>\n",
       "      <td>technician</td>\n",
       "      <td>single</td>\n",
       "      <td>secondary</td>\n",
       "      <td>no</td>\n",
       "      <td>505</td>\n",
       "      <td>no</td>\n",
       "      <td>yes</td>\n",
       "      <td>cellular</td>\n",
       "      <td>17</td>\n",
       "      <td>nov</td>\n",
       "      <td>386.0</td>\n",
       "      <td>2</td>\n",
       "      <td>-1</td>\n",
       "      <td>0</td>\n",
       "      <td>unknown</td>\n",
       "      <td>yes</td>\n",
       "    </tr>\n",
       "    <tr>\n",
       "      <th>43093</th>\n",
       "      <td>51.0</td>\n",
       "      <td>technician</td>\n",
       "      <td>married</td>\n",
       "      <td>tertiary</td>\n",
       "      <td>no</td>\n",
       "      <td>825</td>\n",
       "      <td>no</td>\n",
       "      <td>no</td>\n",
       "      <td>cellular</td>\n",
       "      <td>17</td>\n",
       "      <td>nov</td>\n",
       "      <td>977.0</td>\n",
       "      <td>3</td>\n",
       "      <td>-1</td>\n",
       "      <td>0</td>\n",
       "      <td>unknown</td>\n",
       "      <td>yes</td>\n",
       "    </tr>\n",
       "    <tr>\n",
       "      <th>43094</th>\n",
       "      <td>71.0</td>\n",
       "      <td>retired</td>\n",
       "      <td>divorced</td>\n",
       "      <td>primary</td>\n",
       "      <td>no</td>\n",
       "      <td>1729</td>\n",
       "      <td>no</td>\n",
       "      <td>no</td>\n",
       "      <td>cellular</td>\n",
       "      <td>17</td>\n",
       "      <td>nov</td>\n",
       "      <td>456.0</td>\n",
       "      <td>2</td>\n",
       "      <td>-1</td>\n",
       "      <td>0</td>\n",
       "      <td>unknown</td>\n",
       "      <td>yes</td>\n",
       "    </tr>\n",
       "    <tr>\n",
       "      <th>43095</th>\n",
       "      <td>57.0</td>\n",
       "      <td>blue-collar</td>\n",
       "      <td>married</td>\n",
       "      <td>secondary</td>\n",
       "      <td>no</td>\n",
       "      <td>668</td>\n",
       "      <td>no</td>\n",
       "      <td>no</td>\n",
       "      <td>telephone</td>\n",
       "      <td>17</td>\n",
       "      <td>nov</td>\n",
       "      <td>508.0</td>\n",
       "      <td>4</td>\n",
       "      <td>-1</td>\n",
       "      <td>0</td>\n",
       "      <td>unknown</td>\n",
       "      <td>no</td>\n",
       "    </tr>\n",
       "    <tr>\n",
       "      <th>43096</th>\n",
       "      <td>37.0</td>\n",
       "      <td>entrepreneur</td>\n",
       "      <td>married</td>\n",
       "      <td>secondary</td>\n",
       "      <td>no</td>\n",
       "      <td>2971</td>\n",
       "      <td>no</td>\n",
       "      <td>no</td>\n",
       "      <td>cellular</td>\n",
       "      <td>17</td>\n",
       "      <td>nov</td>\n",
       "      <td>361.0</td>\n",
       "      <td>2</td>\n",
       "      <td>188</td>\n",
       "      <td>11</td>\n",
       "      <td>other</td>\n",
       "      <td>no</td>\n",
       "    </tr>\n",
       "  </tbody>\n",
       "</table>\n",
       "<p>43097 rows × 17 columns</p>\n",
       "</div>"
      ],
      "text/plain": [
       "        age           job   marital  education default  balance housing loan  \\\n",
       "0      58.0    management   married   tertiary      no     2143     yes   no   \n",
       "1      44.0    technician    single  secondary      no       29     yes   no   \n",
       "2      33.0  entrepreneur   married  secondary      no        2     yes  yes   \n",
       "3      47.0   blue-collar   married    unknown      no     1506     yes   no   \n",
       "4      33.0       unknown    single    unknown      no        1      no   no   \n",
       "...     ...           ...       ...        ...     ...      ...     ...  ...   \n",
       "43092  25.0    technician    single  secondary      no      505      no  yes   \n",
       "43093  51.0    technician   married   tertiary      no      825      no   no   \n",
       "43094  71.0       retired  divorced    primary      no     1729      no   no   \n",
       "43095  57.0   blue-collar   married  secondary      no      668      no   no   \n",
       "43096  37.0  entrepreneur   married  secondary      no     2971      no   no   \n",
       "\n",
       "         contact  day month  duration  campaign  pdays  previous poutcome    y  \n",
       "0        unknown    5   may     261.0         1     -1         0  unknown   no  \n",
       "1        unknown    5   may     151.0         1     -1         0  unknown   no  \n",
       "2        unknown    5   may      76.0         1     -1         0  unknown   no  \n",
       "3        unknown    5   may      92.0         1     -1         0  unknown   no  \n",
       "4        unknown    5   may     198.0         1     -1         0  unknown   no  \n",
       "...          ...  ...   ...       ...       ...    ...       ...      ...  ...  \n",
       "43092   cellular   17   nov     386.0         2     -1         0  unknown  yes  \n",
       "43093   cellular   17   nov     977.0         3     -1         0  unknown  yes  \n",
       "43094   cellular   17   nov     456.0         2     -1         0  unknown  yes  \n",
       "43095  telephone   17   nov     508.0         4     -1         0  unknown   no  \n",
       "43096   cellular   17   nov     361.0         2    188        11    other   no  \n",
       "\n",
       "[43097 rows x 17 columns]"
      ]
     },
     "execution_count": 3,
     "metadata": {},
     "output_type": "execute_result"
    }
   ],
   "source": [
    "df"
   ]
  },
  {
   "cell_type": "code",
   "execution_count": 4,
   "id": "e8b754f1",
   "metadata": {},
   "outputs": [],
   "source": [
    "profile = ProfileReport(df, title=\"Profiling Report\")"
   ]
  },
  {
   "cell_type": "code",
   "execution_count": 5,
   "id": "9d1089a3",
   "metadata": {},
   "outputs": [
    {
     "data": {
      "application/vnd.jupyter.widget-view+json": {
       "model_id": "631894bd58614c729b958220ae2c98fa",
       "version_major": 2,
       "version_minor": 0
      },
      "text/plain": [
       "Summarize dataset:   0%|          | 0/5 [00:00<?, ?it/s]"
      ]
     },
     "metadata": {},
     "output_type": "display_data"
    },
    {
     "data": {
      "application/vnd.jupyter.widget-view+json": {
       "model_id": "6b060a2330e749739896391478ac6d06",
       "version_major": 2,
       "version_minor": 0
      },
      "text/plain": [
       "Generate report structure:   0%|          | 0/1 [00:00<?, ?it/s]"
      ]
     },
     "metadata": {},
     "output_type": "display_data"
    },
    {
     "data": {
      "application/vnd.jupyter.widget-view+json": {
       "model_id": "",
       "version_major": 2,
       "version_minor": 0
      },
      "text/plain": [
       "Render widgets:   0%|          | 0/1 [00:00<?, ?it/s]"
      ]
     },
     "metadata": {},
     "output_type": "display_data"
    },
    {
     "data": {
      "application/vnd.jupyter.widget-view+json": {
       "model_id": "7e331a99f5494c47b9b361b3eba6b51e",
       "version_major": 2,
       "version_minor": 0
      },
      "text/plain": [
       "VBox(children=(Tab(children=(Tab(children=(GridBox(children=(VBox(children=(GridspecLayout(children=(HTML(valu…"
      ]
     },
     "metadata": {},
     "output_type": "display_data"
    }
   ],
   "source": [
    "profile.to_widgets()"
   ]
  },
  {
   "cell_type": "markdown",
   "id": "b1fb39e9",
   "metadata": {},
   "source": [
    "### Pulizia e preparazione dato"
   ]
  },
  {
   "cell_type": "code",
   "execution_count": 6,
   "id": "fc9020af",
   "metadata": {},
   "outputs": [
    {
     "name": "stdout",
     "output_type": "stream",
     "text": [
      "<class 'pandas.core.frame.DataFrame'>\n",
      "RangeIndex: 43097 entries, 0 to 43096\n",
      "Data columns (total 17 columns):\n",
      " #   Column     Non-Null Count  Dtype  \n",
      "---  ------     --------------  -----  \n",
      " 0   age        43074 non-null  float64\n",
      " 1   job        43097 non-null  object \n",
      " 2   marital    43097 non-null  object \n",
      " 3   education  43097 non-null  object \n",
      " 4   default    43097 non-null  object \n",
      " 5   balance    43097 non-null  int64  \n",
      " 6   housing    43097 non-null  object \n",
      " 7   loan       43097 non-null  object \n",
      " 8   contact    43039 non-null  object \n",
      " 9   day        43097 non-null  int64  \n",
      " 10  month      43097 non-null  object \n",
      " 11  duration   43021 non-null  float64\n",
      " 12  campaign   43097 non-null  int64  \n",
      " 13  pdays      43097 non-null  int64  \n",
      " 14  previous   43097 non-null  int64  \n",
      " 15  poutcome   43087 non-null  object \n",
      " 16  y          43097 non-null  object \n",
      "dtypes: float64(2), int64(5), object(10)\n",
      "memory usage: 5.6+ MB\n"
     ]
    }
   ],
   "source": [
    "df.info()"
   ]
  },
  {
   "cell_type": "code",
   "execution_count": 7,
   "id": "c8f051d7",
   "metadata": {},
   "outputs": [
    {
     "data": {
      "text/html": [
       "<div>\n",
       "<style scoped>\n",
       "    .dataframe tbody tr th:only-of-type {\n",
       "        vertical-align: middle;\n",
       "    }\n",
       "\n",
       "    .dataframe tbody tr th {\n",
       "        vertical-align: top;\n",
       "    }\n",
       "\n",
       "    .dataframe thead th {\n",
       "        text-align: right;\n",
       "    }\n",
       "</style>\n",
       "<table border=\"1\" class=\"dataframe\">\n",
       "  <thead>\n",
       "    <tr style=\"text-align: right;\">\n",
       "      <th></th>\n",
       "      <th>age</th>\n",
       "      <th>job</th>\n",
       "      <th>marital</th>\n",
       "      <th>education</th>\n",
       "      <th>default</th>\n",
       "      <th>balance</th>\n",
       "      <th>housing</th>\n",
       "      <th>loan</th>\n",
       "      <th>contact</th>\n",
       "      <th>day</th>\n",
       "      <th>month</th>\n",
       "      <th>duration</th>\n",
       "      <th>campaign</th>\n",
       "      <th>pdays</th>\n",
       "      <th>previous</th>\n",
       "      <th>poutcome</th>\n",
       "      <th>y</th>\n",
       "    </tr>\n",
       "  </thead>\n",
       "  <tbody>\n",
       "    <tr>\n",
       "      <th>0</th>\n",
       "      <td>58.0</td>\n",
       "      <td>management</td>\n",
       "      <td>married</td>\n",
       "      <td>tertiary</td>\n",
       "      <td>no</td>\n",
       "      <td>2143</td>\n",
       "      <td>yes</td>\n",
       "      <td>no</td>\n",
       "      <td>unknown</td>\n",
       "      <td>5</td>\n",
       "      <td>may</td>\n",
       "      <td>261.0</td>\n",
       "      <td>1</td>\n",
       "      <td>-1</td>\n",
       "      <td>0</td>\n",
       "      <td>unknown</td>\n",
       "      <td>no</td>\n",
       "    </tr>\n",
       "    <tr>\n",
       "      <th>1</th>\n",
       "      <td>44.0</td>\n",
       "      <td>technician</td>\n",
       "      <td>single</td>\n",
       "      <td>secondary</td>\n",
       "      <td>no</td>\n",
       "      <td>29</td>\n",
       "      <td>yes</td>\n",
       "      <td>no</td>\n",
       "      <td>unknown</td>\n",
       "      <td>5</td>\n",
       "      <td>may</td>\n",
       "      <td>151.0</td>\n",
       "      <td>1</td>\n",
       "      <td>-1</td>\n",
       "      <td>0</td>\n",
       "      <td>unknown</td>\n",
       "      <td>no</td>\n",
       "    </tr>\n",
       "    <tr>\n",
       "      <th>2</th>\n",
       "      <td>33.0</td>\n",
       "      <td>entrepreneur</td>\n",
       "      <td>married</td>\n",
       "      <td>secondary</td>\n",
       "      <td>no</td>\n",
       "      <td>2</td>\n",
       "      <td>yes</td>\n",
       "      <td>yes</td>\n",
       "      <td>unknown</td>\n",
       "      <td>5</td>\n",
       "      <td>may</td>\n",
       "      <td>76.0</td>\n",
       "      <td>1</td>\n",
       "      <td>-1</td>\n",
       "      <td>0</td>\n",
       "      <td>unknown</td>\n",
       "      <td>no</td>\n",
       "    </tr>\n",
       "    <tr>\n",
       "      <th>3</th>\n",
       "      <td>47.0</td>\n",
       "      <td>blue-collar</td>\n",
       "      <td>married</td>\n",
       "      <td>unknown</td>\n",
       "      <td>no</td>\n",
       "      <td>1506</td>\n",
       "      <td>yes</td>\n",
       "      <td>no</td>\n",
       "      <td>unknown</td>\n",
       "      <td>5</td>\n",
       "      <td>may</td>\n",
       "      <td>92.0</td>\n",
       "      <td>1</td>\n",
       "      <td>-1</td>\n",
       "      <td>0</td>\n",
       "      <td>unknown</td>\n",
       "      <td>no</td>\n",
       "    </tr>\n",
       "    <tr>\n",
       "      <th>4</th>\n",
       "      <td>33.0</td>\n",
       "      <td>unknown</td>\n",
       "      <td>single</td>\n",
       "      <td>unknown</td>\n",
       "      <td>no</td>\n",
       "      <td>1</td>\n",
       "      <td>no</td>\n",
       "      <td>no</td>\n",
       "      <td>unknown</td>\n",
       "      <td>5</td>\n",
       "      <td>may</td>\n",
       "      <td>198.0</td>\n",
       "      <td>1</td>\n",
       "      <td>-1</td>\n",
       "      <td>0</td>\n",
       "      <td>unknown</td>\n",
       "      <td>no</td>\n",
       "    </tr>\n",
       "    <tr>\n",
       "      <th>...</th>\n",
       "      <td>...</td>\n",
       "      <td>...</td>\n",
       "      <td>...</td>\n",
       "      <td>...</td>\n",
       "      <td>...</td>\n",
       "      <td>...</td>\n",
       "      <td>...</td>\n",
       "      <td>...</td>\n",
       "      <td>...</td>\n",
       "      <td>...</td>\n",
       "      <td>...</td>\n",
       "      <td>...</td>\n",
       "      <td>...</td>\n",
       "      <td>...</td>\n",
       "      <td>...</td>\n",
       "      <td>...</td>\n",
       "      <td>...</td>\n",
       "    </tr>\n",
       "    <tr>\n",
       "      <th>43092</th>\n",
       "      <td>25.0</td>\n",
       "      <td>technician</td>\n",
       "      <td>single</td>\n",
       "      <td>secondary</td>\n",
       "      <td>no</td>\n",
       "      <td>505</td>\n",
       "      <td>no</td>\n",
       "      <td>yes</td>\n",
       "      <td>cellular</td>\n",
       "      <td>17</td>\n",
       "      <td>nov</td>\n",
       "      <td>386.0</td>\n",
       "      <td>2</td>\n",
       "      <td>-1</td>\n",
       "      <td>0</td>\n",
       "      <td>unknown</td>\n",
       "      <td>yes</td>\n",
       "    </tr>\n",
       "    <tr>\n",
       "      <th>43093</th>\n",
       "      <td>51.0</td>\n",
       "      <td>technician</td>\n",
       "      <td>married</td>\n",
       "      <td>tertiary</td>\n",
       "      <td>no</td>\n",
       "      <td>825</td>\n",
       "      <td>no</td>\n",
       "      <td>no</td>\n",
       "      <td>cellular</td>\n",
       "      <td>17</td>\n",
       "      <td>nov</td>\n",
       "      <td>977.0</td>\n",
       "      <td>3</td>\n",
       "      <td>-1</td>\n",
       "      <td>0</td>\n",
       "      <td>unknown</td>\n",
       "      <td>yes</td>\n",
       "    </tr>\n",
       "    <tr>\n",
       "      <th>43094</th>\n",
       "      <td>71.0</td>\n",
       "      <td>retired</td>\n",
       "      <td>divorced</td>\n",
       "      <td>primary</td>\n",
       "      <td>no</td>\n",
       "      <td>1729</td>\n",
       "      <td>no</td>\n",
       "      <td>no</td>\n",
       "      <td>cellular</td>\n",
       "      <td>17</td>\n",
       "      <td>nov</td>\n",
       "      <td>456.0</td>\n",
       "      <td>2</td>\n",
       "      <td>-1</td>\n",
       "      <td>0</td>\n",
       "      <td>unknown</td>\n",
       "      <td>yes</td>\n",
       "    </tr>\n",
       "    <tr>\n",
       "      <th>43095</th>\n",
       "      <td>57.0</td>\n",
       "      <td>blue-collar</td>\n",
       "      <td>married</td>\n",
       "      <td>secondary</td>\n",
       "      <td>no</td>\n",
       "      <td>668</td>\n",
       "      <td>no</td>\n",
       "      <td>no</td>\n",
       "      <td>telephone</td>\n",
       "      <td>17</td>\n",
       "      <td>nov</td>\n",
       "      <td>508.0</td>\n",
       "      <td>4</td>\n",
       "      <td>-1</td>\n",
       "      <td>0</td>\n",
       "      <td>unknown</td>\n",
       "      <td>no</td>\n",
       "    </tr>\n",
       "    <tr>\n",
       "      <th>43096</th>\n",
       "      <td>37.0</td>\n",
       "      <td>entrepreneur</td>\n",
       "      <td>married</td>\n",
       "      <td>secondary</td>\n",
       "      <td>no</td>\n",
       "      <td>2971</td>\n",
       "      <td>no</td>\n",
       "      <td>no</td>\n",
       "      <td>cellular</td>\n",
       "      <td>17</td>\n",
       "      <td>nov</td>\n",
       "      <td>361.0</td>\n",
       "      <td>2</td>\n",
       "      <td>188</td>\n",
       "      <td>11</td>\n",
       "      <td>other</td>\n",
       "      <td>no</td>\n",
       "    </tr>\n",
       "  </tbody>\n",
       "</table>\n",
       "<p>42931 rows × 17 columns</p>\n",
       "</div>"
      ],
      "text/plain": [
       "        age           job   marital  education default  balance housing loan  \\\n",
       "0      58.0    management   married   tertiary      no     2143     yes   no   \n",
       "1      44.0    technician    single  secondary      no       29     yes   no   \n",
       "2      33.0  entrepreneur   married  secondary      no        2     yes  yes   \n",
       "3      47.0   blue-collar   married    unknown      no     1506     yes   no   \n",
       "4      33.0       unknown    single    unknown      no        1      no   no   \n",
       "...     ...           ...       ...        ...     ...      ...     ...  ...   \n",
       "43092  25.0    technician    single  secondary      no      505      no  yes   \n",
       "43093  51.0    technician   married   tertiary      no      825      no   no   \n",
       "43094  71.0       retired  divorced    primary      no     1729      no   no   \n",
       "43095  57.0   blue-collar   married  secondary      no      668      no   no   \n",
       "43096  37.0  entrepreneur   married  secondary      no     2971      no   no   \n",
       "\n",
       "         contact  day month  duration  campaign  pdays  previous poutcome    y  \n",
       "0        unknown    5   may     261.0         1     -1         0  unknown   no  \n",
       "1        unknown    5   may     151.0         1     -1         0  unknown   no  \n",
       "2        unknown    5   may      76.0         1     -1         0  unknown   no  \n",
       "3        unknown    5   may      92.0         1     -1         0  unknown   no  \n",
       "4        unknown    5   may     198.0         1     -1         0  unknown   no  \n",
       "...          ...  ...   ...       ...       ...    ...       ...      ...  ...  \n",
       "43092   cellular   17   nov     386.0         2     -1         0  unknown  yes  \n",
       "43093   cellular   17   nov     977.0         3     -1         0  unknown  yes  \n",
       "43094   cellular   17   nov     456.0         2     -1         0  unknown  yes  \n",
       "43095  telephone   17   nov     508.0         4     -1         0  unknown   no  \n",
       "43096   cellular   17   nov     361.0         2    188        11    other   no  \n",
       "\n",
       "[42931 rows x 17 columns]"
      ]
     },
     "execution_count": 7,
     "metadata": {},
     "output_type": "execute_result"
    }
   ],
   "source": [
    "#eliminare righe con valori nulli\n",
    "df.dropna(inplace=True)\n",
    "df"
   ]
  },
  {
   "cell_type": "code",
   "execution_count": 8,
   "id": "8805ef66",
   "metadata": {},
   "outputs": [
    {
     "data": {
      "text/plain": [
       "age          0\n",
       "job          0\n",
       "marital      0\n",
       "education    0\n",
       "default      0\n",
       "balance      0\n",
       "housing      0\n",
       "loan         0\n",
       "contact      0\n",
       "day          0\n",
       "month        0\n",
       "duration     0\n",
       "campaign     0\n",
       "pdays        0\n",
       "previous     0\n",
       "poutcome     0\n",
       "y            0\n",
       "dtype: int64"
      ]
     },
     "execution_count": 8,
     "metadata": {},
     "output_type": "execute_result"
    }
   ],
   "source": [
    "df.isnull().sum()"
   ]
  },
  {
   "cell_type": "code",
   "execution_count": 9,
   "id": "9b68bc76",
   "metadata": {},
   "outputs": [],
   "source": [
    "df['age'] = df['age'].astype(int)\n",
    "df['duration'] = df['duration'].astype(int)"
   ]
  },
  {
   "cell_type": "code",
   "execution_count": 10,
   "id": "b45368d6",
   "metadata": {},
   "outputs": [
    {
     "name": "stdout",
     "output_type": "stream",
     "text": [
      "       age            job marital  education default  balance housing loan  \\\n",
      "30630   28        student  single  secondary      no     5916      no   no   \n",
      "30631   28        student  single  secondary      no     5916      no   no   \n",
      "30632   28        student  single  secondary      no     5916      no   no   \n",
      "30633   28        student  single  secondary      no     5916      no   no   \n",
      "30634   28        student  single  secondary      no     5916      no   no   \n",
      "30635   28        student  single  secondary      no     5916      no   no   \n",
      "41934   25  self-employed  single    unknown      no     1179      no   no   \n",
      "41935   25  self-employed  single    unknown      no     1179      no   no   \n",
      "\n",
      "        contact  day month  duration  campaign  pdays  previous poutcome   y  \n",
      "30630  cellular   20   mar        93         5     -1         0  unknown  no  \n",
      "30631  cellular   20   mar        93         5     -1         0  unknown  no  \n",
      "30632  cellular   20   mar        93         5     -1         0  unknown  no  \n",
      "30633  cellular   20   mar        93         5     -1         0  unknown  no  \n",
      "30634  cellular   20   mar        93         5     -1         0  unknown  no  \n",
      "30635  cellular   20   mar        93         5     -1         0  unknown  no  \n",
      "41934  cellular   24   may       131         2     95         5  failure  no  \n",
      "41935  cellular   24   may       131         2     95         5  failure  no  \n"
     ]
    }
   ],
   "source": [
    "#eliminare righe duplicate\n",
    "print(df[df.duplicated()])\n",
    "df.drop_duplicates(inplace=True)"
   ]
  },
  {
   "cell_type": "code",
   "execution_count": 11,
   "id": "5738b63a",
   "metadata": {},
   "outputs": [
    {
     "data": {
      "text/html": [
       "<div>\n",
       "<style scoped>\n",
       "    .dataframe tbody tr th:only-of-type {\n",
       "        vertical-align: middle;\n",
       "    }\n",
       "\n",
       "    .dataframe tbody tr th {\n",
       "        vertical-align: top;\n",
       "    }\n",
       "\n",
       "    .dataframe thead th {\n",
       "        text-align: right;\n",
       "    }\n",
       "</style>\n",
       "<table border=\"1\" class=\"dataframe\">\n",
       "  <thead>\n",
       "    <tr style=\"text-align: right;\">\n",
       "      <th></th>\n",
       "      <th>age</th>\n",
       "      <th>job</th>\n",
       "      <th>marital</th>\n",
       "      <th>education</th>\n",
       "      <th>default</th>\n",
       "      <th>balance</th>\n",
       "      <th>housing</th>\n",
       "      <th>loan</th>\n",
       "      <th>contact</th>\n",
       "      <th>day</th>\n",
       "      <th>month</th>\n",
       "      <th>duration</th>\n",
       "      <th>campaign</th>\n",
       "      <th>pdays</th>\n",
       "      <th>previous</th>\n",
       "      <th>poutcome</th>\n",
       "      <th>y</th>\n",
       "    </tr>\n",
       "  </thead>\n",
       "  <tbody>\n",
       "    <tr>\n",
       "      <th>30629</th>\n",
       "      <td>28</td>\n",
       "      <td>student</td>\n",
       "      <td>single</td>\n",
       "      <td>secondary</td>\n",
       "      <td>no</td>\n",
       "      <td>5916</td>\n",
       "      <td>no</td>\n",
       "      <td>no</td>\n",
       "      <td>cellular</td>\n",
       "      <td>20</td>\n",
       "      <td>mar</td>\n",
       "      <td>93</td>\n",
       "      <td>5</td>\n",
       "      <td>-1</td>\n",
       "      <td>0</td>\n",
       "      <td>unknown</td>\n",
       "      <td>no</td>\n",
       "    </tr>\n",
       "    <tr>\n",
       "      <th>38293</th>\n",
       "      <td>28</td>\n",
       "      <td>student</td>\n",
       "      <td>single</td>\n",
       "      <td>secondary</td>\n",
       "      <td>no</td>\n",
       "      <td>5916</td>\n",
       "      <td>no</td>\n",
       "      <td>no</td>\n",
       "      <td>cellular</td>\n",
       "      <td>22</td>\n",
       "      <td>may</td>\n",
       "      <td>259</td>\n",
       "      <td>1</td>\n",
       "      <td>63</td>\n",
       "      <td>5</td>\n",
       "      <td>failure</td>\n",
       "      <td>no</td>\n",
       "    </tr>\n",
       "    <tr>\n",
       "      <th>39520</th>\n",
       "      <td>28</td>\n",
       "      <td>student</td>\n",
       "      <td>single</td>\n",
       "      <td>secondary</td>\n",
       "      <td>no</td>\n",
       "      <td>5916</td>\n",
       "      <td>no</td>\n",
       "      <td>no</td>\n",
       "      <td>cellular</td>\n",
       "      <td>11</td>\n",
       "      <td>aug</td>\n",
       "      <td>344</td>\n",
       "      <td>1</td>\n",
       "      <td>81</td>\n",
       "      <td>6</td>\n",
       "      <td>failure</td>\n",
       "      <td>no</td>\n",
       "    </tr>\n",
       "  </tbody>\n",
       "</table>\n",
       "</div>"
      ],
      "text/plain": [
       "       age      job marital  education default  balance housing loan  \\\n",
       "30629   28  student  single  secondary      no     5916      no   no   \n",
       "38293   28  student  single  secondary      no     5916      no   no   \n",
       "39520   28  student  single  secondary      no     5916      no   no   \n",
       "\n",
       "        contact  day month  duration  campaign  pdays  previous poutcome   y  \n",
       "30629  cellular   20   mar        93         5     -1         0  unknown  no  \n",
       "38293  cellular   22   may       259         1     63         5  failure  no  \n",
       "39520  cellular   11   aug       344         1     81         6  failure  no  "
      ]
     },
     "execution_count": 11,
     "metadata": {},
     "output_type": "execute_result"
    }
   ],
   "source": [
    "df[df['balance']==5916]"
   ]
  },
  {
   "cell_type": "code",
   "execution_count": 12,
   "id": "1b4df171",
   "metadata": {},
   "outputs": [],
   "source": [
    "#in marital riunire i single e i divorced con una unica label\n",
    "df['marital'].replace('Singl','single', inplace=True)\n",
    "df['marital'].replace('Single','single', inplace=True)\n",
    "df['marital'].replace('divrcd','divorced', inplace=True)"
   ]
  },
  {
   "cell_type": "code",
   "execution_count": 13,
   "id": "6f60264f",
   "metadata": {},
   "outputs": [],
   "source": [
    "#eliminare righe con valore dell'età 150 \n",
    "indexNames = df[df['age'] == 150].index\n",
    "# Delete these row indexes from dataFrame\n",
    "df.drop(indexNames , inplace=True)"
   ]
  },
  {
   "cell_type": "code",
   "execution_count": 14,
   "id": "8c661115",
   "metadata": {},
   "outputs": [],
   "source": [
    "#eliminare righe con valore day 99 \n",
    "indexNames = df[df['day'] == 99].index\n",
    "# Delete these row indexes from dataFrame\n",
    "df.drop(indexNames , inplace=True)"
   ]
  },
  {
   "cell_type": "code",
   "execution_count": 15,
   "id": "0b83a6b3",
   "metadata": {},
   "outputs": [],
   "source": [
    "#eliminare righe con valore S in merital \n",
    "indexNames = df[df['marital'] == 'S'].index\n",
    "# Delete these row indexes from dataFrame\n",
    "df.drop(indexNames , inplace=True)"
   ]
  },
  {
   "cell_type": "code",
   "execution_count": 16,
   "id": "b9f169f0",
   "metadata": {},
   "outputs": [],
   "source": [
    "#pdays è correlata con altre feature\n",
    "df.drop(['pdays'], axis = 1, inplace=True) "
   ]
  },
  {
   "cell_type": "code",
   "execution_count": 17,
   "id": "cf7b58fc",
   "metadata": {},
   "outputs": [
    {
     "data": {
      "text/html": [
       "<div>\n",
       "<style scoped>\n",
       "    .dataframe tbody tr th:only-of-type {\n",
       "        vertical-align: middle;\n",
       "    }\n",
       "\n",
       "    .dataframe tbody tr th {\n",
       "        vertical-align: top;\n",
       "    }\n",
       "\n",
       "    .dataframe thead th {\n",
       "        text-align: right;\n",
       "    }\n",
       "</style>\n",
       "<table border=\"1\" class=\"dataframe\">\n",
       "  <thead>\n",
       "    <tr style=\"text-align: right;\">\n",
       "      <th></th>\n",
       "      <th>age</th>\n",
       "      <th>job</th>\n",
       "      <th>marital</th>\n",
       "      <th>education</th>\n",
       "      <th>default</th>\n",
       "      <th>balance</th>\n",
       "      <th>housing</th>\n",
       "      <th>loan</th>\n",
       "      <th>contact</th>\n",
       "      <th>day</th>\n",
       "      <th>month</th>\n",
       "      <th>duration</th>\n",
       "      <th>campaign</th>\n",
       "      <th>previous</th>\n",
       "      <th>poutcome</th>\n",
       "      <th>y</th>\n",
       "    </tr>\n",
       "  </thead>\n",
       "  <tbody>\n",
       "    <tr>\n",
       "      <th>0</th>\n",
       "      <td>58</td>\n",
       "      <td>management</td>\n",
       "      <td>married</td>\n",
       "      <td>tertiary</td>\n",
       "      <td>no</td>\n",
       "      <td>2143</td>\n",
       "      <td>yes</td>\n",
       "      <td>no</td>\n",
       "      <td>unknown</td>\n",
       "      <td>5</td>\n",
       "      <td>may</td>\n",
       "      <td>261</td>\n",
       "      <td>1</td>\n",
       "      <td>0</td>\n",
       "      <td>unknown</td>\n",
       "      <td>no</td>\n",
       "    </tr>\n",
       "    <tr>\n",
       "      <th>1</th>\n",
       "      <td>44</td>\n",
       "      <td>technician</td>\n",
       "      <td>single</td>\n",
       "      <td>secondary</td>\n",
       "      <td>no</td>\n",
       "      <td>29</td>\n",
       "      <td>yes</td>\n",
       "      <td>no</td>\n",
       "      <td>unknown</td>\n",
       "      <td>5</td>\n",
       "      <td>may</td>\n",
       "      <td>151</td>\n",
       "      <td>1</td>\n",
       "      <td>0</td>\n",
       "      <td>unknown</td>\n",
       "      <td>no</td>\n",
       "    </tr>\n",
       "    <tr>\n",
       "      <th>2</th>\n",
       "      <td>33</td>\n",
       "      <td>entrepreneur</td>\n",
       "      <td>married</td>\n",
       "      <td>secondary</td>\n",
       "      <td>no</td>\n",
       "      <td>2</td>\n",
       "      <td>yes</td>\n",
       "      <td>yes</td>\n",
       "      <td>unknown</td>\n",
       "      <td>5</td>\n",
       "      <td>may</td>\n",
       "      <td>76</td>\n",
       "      <td>1</td>\n",
       "      <td>0</td>\n",
       "      <td>unknown</td>\n",
       "      <td>no</td>\n",
       "    </tr>\n",
       "    <tr>\n",
       "      <th>3</th>\n",
       "      <td>47</td>\n",
       "      <td>blue-collar</td>\n",
       "      <td>married</td>\n",
       "      <td>unknown</td>\n",
       "      <td>no</td>\n",
       "      <td>1506</td>\n",
       "      <td>yes</td>\n",
       "      <td>no</td>\n",
       "      <td>unknown</td>\n",
       "      <td>5</td>\n",
       "      <td>may</td>\n",
       "      <td>92</td>\n",
       "      <td>1</td>\n",
       "      <td>0</td>\n",
       "      <td>unknown</td>\n",
       "      <td>no</td>\n",
       "    </tr>\n",
       "    <tr>\n",
       "      <th>4</th>\n",
       "      <td>33</td>\n",
       "      <td>unknown</td>\n",
       "      <td>single</td>\n",
       "      <td>unknown</td>\n",
       "      <td>no</td>\n",
       "      <td>1</td>\n",
       "      <td>no</td>\n",
       "      <td>no</td>\n",
       "      <td>unknown</td>\n",
       "      <td>5</td>\n",
       "      <td>may</td>\n",
       "      <td>198</td>\n",
       "      <td>1</td>\n",
       "      <td>0</td>\n",
       "      <td>unknown</td>\n",
       "      <td>no</td>\n",
       "    </tr>\n",
       "    <tr>\n",
       "      <th>...</th>\n",
       "      <td>...</td>\n",
       "      <td>...</td>\n",
       "      <td>...</td>\n",
       "      <td>...</td>\n",
       "      <td>...</td>\n",
       "      <td>...</td>\n",
       "      <td>...</td>\n",
       "      <td>...</td>\n",
       "      <td>...</td>\n",
       "      <td>...</td>\n",
       "      <td>...</td>\n",
       "      <td>...</td>\n",
       "      <td>...</td>\n",
       "      <td>...</td>\n",
       "      <td>...</td>\n",
       "      <td>...</td>\n",
       "    </tr>\n",
       "    <tr>\n",
       "      <th>43092</th>\n",
       "      <td>25</td>\n",
       "      <td>technician</td>\n",
       "      <td>single</td>\n",
       "      <td>secondary</td>\n",
       "      <td>no</td>\n",
       "      <td>505</td>\n",
       "      <td>no</td>\n",
       "      <td>yes</td>\n",
       "      <td>cellular</td>\n",
       "      <td>17</td>\n",
       "      <td>nov</td>\n",
       "      <td>386</td>\n",
       "      <td>2</td>\n",
       "      <td>0</td>\n",
       "      <td>unknown</td>\n",
       "      <td>yes</td>\n",
       "    </tr>\n",
       "    <tr>\n",
       "      <th>43093</th>\n",
       "      <td>51</td>\n",
       "      <td>technician</td>\n",
       "      <td>married</td>\n",
       "      <td>tertiary</td>\n",
       "      <td>no</td>\n",
       "      <td>825</td>\n",
       "      <td>no</td>\n",
       "      <td>no</td>\n",
       "      <td>cellular</td>\n",
       "      <td>17</td>\n",
       "      <td>nov</td>\n",
       "      <td>977</td>\n",
       "      <td>3</td>\n",
       "      <td>0</td>\n",
       "      <td>unknown</td>\n",
       "      <td>yes</td>\n",
       "    </tr>\n",
       "    <tr>\n",
       "      <th>43094</th>\n",
       "      <td>71</td>\n",
       "      <td>retired</td>\n",
       "      <td>divorced</td>\n",
       "      <td>primary</td>\n",
       "      <td>no</td>\n",
       "      <td>1729</td>\n",
       "      <td>no</td>\n",
       "      <td>no</td>\n",
       "      <td>cellular</td>\n",
       "      <td>17</td>\n",
       "      <td>nov</td>\n",
       "      <td>456</td>\n",
       "      <td>2</td>\n",
       "      <td>0</td>\n",
       "      <td>unknown</td>\n",
       "      <td>yes</td>\n",
       "    </tr>\n",
       "    <tr>\n",
       "      <th>43095</th>\n",
       "      <td>57</td>\n",
       "      <td>blue-collar</td>\n",
       "      <td>married</td>\n",
       "      <td>secondary</td>\n",
       "      <td>no</td>\n",
       "      <td>668</td>\n",
       "      <td>no</td>\n",
       "      <td>no</td>\n",
       "      <td>telephone</td>\n",
       "      <td>17</td>\n",
       "      <td>nov</td>\n",
       "      <td>508</td>\n",
       "      <td>4</td>\n",
       "      <td>0</td>\n",
       "      <td>unknown</td>\n",
       "      <td>no</td>\n",
       "    </tr>\n",
       "    <tr>\n",
       "      <th>43096</th>\n",
       "      <td>37</td>\n",
       "      <td>entrepreneur</td>\n",
       "      <td>married</td>\n",
       "      <td>secondary</td>\n",
       "      <td>no</td>\n",
       "      <td>2971</td>\n",
       "      <td>no</td>\n",
       "      <td>no</td>\n",
       "      <td>cellular</td>\n",
       "      <td>17</td>\n",
       "      <td>nov</td>\n",
       "      <td>361</td>\n",
       "      <td>2</td>\n",
       "      <td>11</td>\n",
       "      <td>other</td>\n",
       "      <td>no</td>\n",
       "    </tr>\n",
       "  </tbody>\n",
       "</table>\n",
       "<p>42714 rows × 16 columns</p>\n",
       "</div>"
      ],
      "text/plain": [
       "       age           job   marital  education default  balance housing loan  \\\n",
       "0       58    management   married   tertiary      no     2143     yes   no   \n",
       "1       44    technician    single  secondary      no       29     yes   no   \n",
       "2       33  entrepreneur   married  secondary      no        2     yes  yes   \n",
       "3       47   blue-collar   married    unknown      no     1506     yes   no   \n",
       "4       33       unknown    single    unknown      no        1      no   no   \n",
       "...    ...           ...       ...        ...     ...      ...     ...  ...   \n",
       "43092   25    technician    single  secondary      no      505      no  yes   \n",
       "43093   51    technician   married   tertiary      no      825      no   no   \n",
       "43094   71       retired  divorced    primary      no     1729      no   no   \n",
       "43095   57   blue-collar   married  secondary      no      668      no   no   \n",
       "43096   37  entrepreneur   married  secondary      no     2971      no   no   \n",
       "\n",
       "         contact  day month  duration  campaign  previous poutcome    y  \n",
       "0        unknown    5   may       261         1         0  unknown   no  \n",
       "1        unknown    5   may       151         1         0  unknown   no  \n",
       "2        unknown    5   may        76         1         0  unknown   no  \n",
       "3        unknown    5   may        92         1         0  unknown   no  \n",
       "4        unknown    5   may       198         1         0  unknown   no  \n",
       "...          ...  ...   ...       ...       ...       ...      ...  ...  \n",
       "43092   cellular   17   nov       386         2         0  unknown  yes  \n",
       "43093   cellular   17   nov       977         3         0  unknown  yes  \n",
       "43094   cellular   17   nov       456         2         0  unknown  yes  \n",
       "43095  telephone   17   nov       508         4         0  unknown   no  \n",
       "43096   cellular   17   nov       361         2        11    other   no  \n",
       "\n",
       "[42714 rows x 16 columns]"
      ]
     },
     "execution_count": 17,
     "metadata": {},
     "output_type": "execute_result"
    }
   ],
   "source": [
    "df"
   ]
  },
  {
   "cell_type": "code",
   "execution_count": 18,
   "id": "e7729df7",
   "metadata": {},
   "outputs": [],
   "source": [
    "profile_pre = ProfileReport(df, title=\"Profiling Report\")"
   ]
  },
  {
   "cell_type": "code",
   "execution_count": 19,
   "id": "d2ffe61a",
   "metadata": {},
   "outputs": [
    {
     "data": {
      "application/vnd.jupyter.widget-view+json": {
       "model_id": "2dd93ac022e643efa9d9caa0a0585c94",
       "version_major": 2,
       "version_minor": 0
      },
      "text/plain": [
       "Summarize dataset:   0%|          | 0/5 [00:00<?, ?it/s]"
      ]
     },
     "metadata": {},
     "output_type": "display_data"
    },
    {
     "data": {
      "application/vnd.jupyter.widget-view+json": {
       "model_id": "012a2ce93576450a8b0bb05494b45370",
       "version_major": 2,
       "version_minor": 0
      },
      "text/plain": [
       "Generate report structure:   0%|          | 0/1 [00:00<?, ?it/s]"
      ]
     },
     "metadata": {},
     "output_type": "display_data"
    },
    {
     "data": {
      "application/vnd.jupyter.widget-view+json": {
       "model_id": "",
       "version_major": 2,
       "version_minor": 0
      },
      "text/plain": [
       "Render widgets:   0%|          | 0/1 [00:00<?, ?it/s]"
      ]
     },
     "metadata": {},
     "output_type": "display_data"
    },
    {
     "data": {
      "application/vnd.jupyter.widget-view+json": {
       "model_id": "60f3cd2a494c4f778f1e412d34c6a3bc",
       "version_major": 2,
       "version_minor": 0
      },
      "text/plain": [
       "VBox(children=(Tab(children=(Tab(children=(GridBox(children=(VBox(children=(GridspecLayout(children=(HTML(valu…"
      ]
     },
     "metadata": {},
     "output_type": "display_data"
    }
   ],
   "source": [
    "profile_pre.to_widgets()"
   ]
  },
  {
   "cell_type": "code",
   "execution_count": 141,
   "id": "b7dee6e1",
   "metadata": {},
   "outputs": [],
   "source": []
  },
  {
   "cell_type": "code",
   "execution_count": null,
   "id": "e98f2af6",
   "metadata": {
    "scrolled": true
   },
   "outputs": [],
   "source": [
    "!pip install imblearn"
   ]
  },
  {
   "cell_type": "code",
   "execution_count": 20,
   "id": "6946d80e",
   "metadata": {},
   "outputs": [],
   "source": [
    "from sklearn.model_selection import train_test_split\n",
    "from imblearn.combine import SMOTEENN\n",
    "from imblearn.over_sampling import SMOTE\n",
    "from imblearn.under_sampling import RandomUnderSampler\n",
    "import matplotlib.pyplot as plt\n",
    "import seaborn as sns\n",
    "from sklearn.preprocessing import LabelEncoder"
   ]
  },
  {
   "cell_type": "code",
   "execution_count": 21,
   "id": "aa86e7e2",
   "metadata": {},
   "outputs": [],
   "source": [
    "def plot_y(y):\n",
    "    values = y.value_counts()\n",
    "    names= ['no', 'yes']\n",
    "    print(values)\n",
    "    fig, ax = plt.subplots()\n",
    "    bar_container = ax.bar(names, values, color=[\"red\", \"lightgreen\"])\n",
    "    ax.set(ylabel='count', title='client subscribed')\n",
    "    ax.bar_label(bar_container)"
   ]
  },
  {
   "cell_type": "code",
   "execution_count": 22,
   "id": "1cd5c543",
   "metadata": {},
   "outputs": [],
   "source": [
    "df['default'] = df.default.map(dict(yes=1, no=0))\n",
    "df['housing'] = df.housing.map(dict(yes=1, no=0))\n",
    "df['loan'] = df.loan.map(dict(yes=1, no=0))"
   ]
  },
  {
   "cell_type": "code",
   "execution_count": 25,
   "id": "85f2ace8",
   "metadata": {},
   "outputs": [
    {
     "data": {
      "text/plain": [
       "{0, 1, 2}"
      ]
     },
     "execution_count": 25,
     "metadata": {},
     "output_type": "execute_result"
    }
   ],
   "source": [
    "df2 = df\n",
    "\n",
    "label_encoder = LabelEncoder()\n",
    "df2['marital'] = label_encoder.fit_transform(df2['marital'])\n",
    "set(df2['marital'])"
   ]
  },
  {
   "cell_type": "code",
   "execution_count": 26,
   "id": "e3c214ef",
   "metadata": {},
   "outputs": [],
   "source": [
    "df2['education'] = label_encoder.fit_transform(df2['education'])\n",
    "df2['job'] = label_encoder.fit_transform(df2['job'])\n",
    "df2['contact'] = label_encoder.fit_transform(df2['contact'])\n",
    "df2['month'] = label_encoder.fit_transform(df2['month'])\n",
    "df2['poutcome'] = label_encoder.fit_transform(df2['poutcome'])"
   ]
  },
  {
   "cell_type": "code",
   "execution_count": 27,
   "id": "1a2dafb1",
   "metadata": {},
   "outputs": [
    {
     "data": {
      "text/html": [
       "<div>\n",
       "<style scoped>\n",
       "    .dataframe tbody tr th:only-of-type {\n",
       "        vertical-align: middle;\n",
       "    }\n",
       "\n",
       "    .dataframe tbody tr th {\n",
       "        vertical-align: top;\n",
       "    }\n",
       "\n",
       "    .dataframe thead th {\n",
       "        text-align: right;\n",
       "    }\n",
       "</style>\n",
       "<table border=\"1\" class=\"dataframe\">\n",
       "  <thead>\n",
       "    <tr style=\"text-align: right;\">\n",
       "      <th></th>\n",
       "      <th>age</th>\n",
       "      <th>job</th>\n",
       "      <th>marital</th>\n",
       "      <th>education</th>\n",
       "      <th>default</th>\n",
       "      <th>balance</th>\n",
       "      <th>housing</th>\n",
       "      <th>loan</th>\n",
       "      <th>contact</th>\n",
       "      <th>day</th>\n",
       "      <th>month</th>\n",
       "      <th>duration</th>\n",
       "      <th>campaign</th>\n",
       "      <th>previous</th>\n",
       "      <th>poutcome</th>\n",
       "    </tr>\n",
       "  </thead>\n",
       "  <tbody>\n",
       "    <tr>\n",
       "      <th>5984</th>\n",
       "      <td>46</td>\n",
       "      <td>9</td>\n",
       "      <td>0</td>\n",
       "      <td>1</td>\n",
       "      <td>0</td>\n",
       "      <td>1</td>\n",
       "      <td>1</td>\n",
       "      <td>1</td>\n",
       "      <td>2</td>\n",
       "      <td>26</td>\n",
       "      <td>8</td>\n",
       "      <td>200</td>\n",
       "      <td>3</td>\n",
       "      <td>0</td>\n",
       "      <td>3</td>\n",
       "    </tr>\n",
       "    <tr>\n",
       "      <th>20616</th>\n",
       "      <td>30</td>\n",
       "      <td>7</td>\n",
       "      <td>2</td>\n",
       "      <td>2</td>\n",
       "      <td>0</td>\n",
       "      <td>719</td>\n",
       "      <td>0</td>\n",
       "      <td>1</td>\n",
       "      <td>0</td>\n",
       "      <td>14</td>\n",
       "      <td>1</td>\n",
       "      <td>38</td>\n",
       "      <td>2</td>\n",
       "      <td>0</td>\n",
       "      <td>3</td>\n",
       "    </tr>\n",
       "    <tr>\n",
       "      <th>10166</th>\n",
       "      <td>53</td>\n",
       "      <td>6</td>\n",
       "      <td>1</td>\n",
       "      <td>2</td>\n",
       "      <td>0</td>\n",
       "      <td>4397</td>\n",
       "      <td>1</td>\n",
       "      <td>0</td>\n",
       "      <td>2</td>\n",
       "      <td>12</td>\n",
       "      <td>6</td>\n",
       "      <td>252</td>\n",
       "      <td>1</td>\n",
       "      <td>0</td>\n",
       "      <td>3</td>\n",
       "    </tr>\n",
       "    <tr>\n",
       "      <th>22199</th>\n",
       "      <td>46</td>\n",
       "      <td>9</td>\n",
       "      <td>1</td>\n",
       "      <td>1</td>\n",
       "      <td>0</td>\n",
       "      <td>520</td>\n",
       "      <td>0</td>\n",
       "      <td>0</td>\n",
       "      <td>0</td>\n",
       "      <td>25</td>\n",
       "      <td>1</td>\n",
       "      <td>61</td>\n",
       "      <td>4</td>\n",
       "      <td>0</td>\n",
       "      <td>3</td>\n",
       "    </tr>\n",
       "    <tr>\n",
       "      <th>14903</th>\n",
       "      <td>51</td>\n",
       "      <td>1</td>\n",
       "      <td>1</td>\n",
       "      <td>0</td>\n",
       "      <td>0</td>\n",
       "      <td>201</td>\n",
       "      <td>1</td>\n",
       "      <td>0</td>\n",
       "      <td>0</td>\n",
       "      <td>17</td>\n",
       "      <td>5</td>\n",
       "      <td>582</td>\n",
       "      <td>2</td>\n",
       "      <td>0</td>\n",
       "      <td>3</td>\n",
       "    </tr>\n",
       "    <tr>\n",
       "      <th>...</th>\n",
       "      <td>...</td>\n",
       "      <td>...</td>\n",
       "      <td>...</td>\n",
       "      <td>...</td>\n",
       "      <td>...</td>\n",
       "      <td>...</td>\n",
       "      <td>...</td>\n",
       "      <td>...</td>\n",
       "      <td>...</td>\n",
       "      <td>...</td>\n",
       "      <td>...</td>\n",
       "      <td>...</td>\n",
       "      <td>...</td>\n",
       "      <td>...</td>\n",
       "      <td>...</td>\n",
       "    </tr>\n",
       "    <tr>\n",
       "      <th>36507</th>\n",
       "      <td>30</td>\n",
       "      <td>1</td>\n",
       "      <td>1</td>\n",
       "      <td>1</td>\n",
       "      <td>0</td>\n",
       "      <td>2583</td>\n",
       "      <td>1</td>\n",
       "      <td>0</td>\n",
       "      <td>0</td>\n",
       "      <td>14</td>\n",
       "      <td>8</td>\n",
       "      <td>436</td>\n",
       "      <td>3</td>\n",
       "      <td>0</td>\n",
       "      <td>3</td>\n",
       "    </tr>\n",
       "    <tr>\n",
       "      <th>9636</th>\n",
       "      <td>58</td>\n",
       "      <td>5</td>\n",
       "      <td>1</td>\n",
       "      <td>1</td>\n",
       "      <td>0</td>\n",
       "      <td>630</td>\n",
       "      <td>0</td>\n",
       "      <td>0</td>\n",
       "      <td>2</td>\n",
       "      <td>9</td>\n",
       "      <td>6</td>\n",
       "      <td>443</td>\n",
       "      <td>2</td>\n",
       "      <td>0</td>\n",
       "      <td>3</td>\n",
       "    </tr>\n",
       "    <tr>\n",
       "      <th>11017</th>\n",
       "      <td>60</td>\n",
       "      <td>3</td>\n",
       "      <td>1</td>\n",
       "      <td>0</td>\n",
       "      <td>0</td>\n",
       "      <td>0</td>\n",
       "      <td>0</td>\n",
       "      <td>0</td>\n",
       "      <td>2</td>\n",
       "      <td>18</td>\n",
       "      <td>6</td>\n",
       "      <td>138</td>\n",
       "      <td>1</td>\n",
       "      <td>0</td>\n",
       "      <td>3</td>\n",
       "    </tr>\n",
       "    <tr>\n",
       "      <th>11036</th>\n",
       "      <td>58</td>\n",
       "      <td>3</td>\n",
       "      <td>0</td>\n",
       "      <td>0</td>\n",
       "      <td>0</td>\n",
       "      <td>0</td>\n",
       "      <td>0</td>\n",
       "      <td>0</td>\n",
       "      <td>2</td>\n",
       "      <td>18</td>\n",
       "      <td>6</td>\n",
       "      <td>290</td>\n",
       "      <td>2</td>\n",
       "      <td>0</td>\n",
       "      <td>3</td>\n",
       "    </tr>\n",
       "    <tr>\n",
       "      <th>33970</th>\n",
       "      <td>38</td>\n",
       "      <td>6</td>\n",
       "      <td>2</td>\n",
       "      <td>1</td>\n",
       "      <td>0</td>\n",
       "      <td>592</td>\n",
       "      <td>0</td>\n",
       "      <td>0</td>\n",
       "      <td>0</td>\n",
       "      <td>6</td>\n",
       "      <td>8</td>\n",
       "      <td>275</td>\n",
       "      <td>1</td>\n",
       "      <td>0</td>\n",
       "      <td>3</td>\n",
       "    </tr>\n",
       "  </tbody>\n",
       "</table>\n",
       "<p>29899 rows × 15 columns</p>\n",
       "</div>"
      ],
      "text/plain": [
       "       age  job  marital  education  default  balance  housing  loan  contact  \\\n",
       "5984    46    9        0          1        0        1        1     1        2   \n",
       "20616   30    7        2          2        0      719        0     1        0   \n",
       "10166   53    6        1          2        0     4397        1     0        2   \n",
       "22199   46    9        1          1        0      520        0     0        0   \n",
       "14903   51    1        1          0        0      201        1     0        0   \n",
       "...    ...  ...      ...        ...      ...      ...      ...   ...      ...   \n",
       "36507   30    1        1          1        0     2583        1     0        0   \n",
       "9636    58    5        1          1        0      630        0     0        2   \n",
       "11017   60    3        1          0        0        0        0     0        2   \n",
       "11036   58    3        0          0        0        0        0     0        2   \n",
       "33970   38    6        2          1        0      592        0     0        0   \n",
       "\n",
       "       day  month  duration  campaign  previous  poutcome  \n",
       "5984    26      8       200         3         0         3  \n",
       "20616   14      1        38         2         0         3  \n",
       "10166   12      6       252         1         0         3  \n",
       "22199   25      1        61         4         0         3  \n",
       "14903   17      5       582         2         0         3  \n",
       "...    ...    ...       ...       ...       ...       ...  \n",
       "36507   14      8       436         3         0         3  \n",
       "9636     9      6       443         2         0         3  \n",
       "11017   18      6       138         1         0         3  \n",
       "11036   18      6       290         2         0         3  \n",
       "33970    6      8       275         1         0         3  \n",
       "\n",
       "[29899 rows x 15 columns]"
      ]
     },
     "execution_count": 27,
     "metadata": {},
     "output_type": "execute_result"
    }
   ],
   "source": [
    "x = df2.drop(\"y\", axis=1)\n",
    "y = df2[\"y\"]\n",
    "\n",
    "x_train_trans, x_val_trans, y_train_trans, y_val_trans = train_test_split(x, y, test_size=0.3, shuffle=True, stratify=y, random_state=22)\n",
    "x_train_trans"
   ]
  },
  {
   "cell_type": "code",
   "execution_count": 28,
   "id": "1b3d160d",
   "metadata": {},
   "outputs": [
    {
     "name": "stdout",
     "output_type": "stream",
     "text": [
      "no     27712\n",
      "yes     2187\n",
      "Name: y, dtype: int64\n"
     ]
    },
    {
     "data": {
      "image/png": "[encoded data removed]",
      "text/plain": [
       "<Figure size 432x288 with 1 Axes>"
      ]
     },
     "metadata": {
      "needs_background": "light"
     },
     "output_type": "display_data"
    }
   ],
   "source": [
    "plot_y(y_train_trans)"
   ]
  },
  {
   "cell_type": "code",
   "execution_count": 29,
   "id": "1b2c092a",
   "metadata": {},
   "outputs": [],
   "source": [
    "sm = SMOTE(random_state=22)\n",
    "x_train_over, y_train_over = sm.fit_resample(x_train_trans, y_train_trans)"
   ]
  },
  {
   "cell_type": "code",
   "execution_count": 30,
   "id": "b65b5b50",
   "metadata": {},
   "outputs": [
    {
     "name": "stdout",
     "output_type": "stream",
     "text": [
      "no     27712\n",
      "yes    27712\n",
      "Name: y, dtype: int64\n"
     ]
    },
    {
     "data": {
      "image/png": "[encoded data removed]",
      "text/plain": [
       "<Figure size 432x288 with 1 Axes>"
      ]
     },
     "metadata": {
      "needs_background": "light"
     },
     "output_type": "display_data"
    }
   ],
   "source": [
    "plot_y(y_train_over)"
   ]
  },
  {
   "cell_type": "code",
   "execution_count": 31,
   "id": "3d10aee4",
   "metadata": {},
   "outputs": [],
   "source": [
    "rus = RandomUnderSampler(random_state=42)\n",
    "x_train_down, y_train_down = rus.fit_resample(x_train_trans, y_train_trans)"
   ]
  },
  {
   "cell_type": "code",
   "execution_count": 32,
   "id": "de124d57",
   "metadata": {},
   "outputs": [
    {
     "name": "stdout",
     "output_type": "stream",
     "text": [
      "no     2187\n",
      "yes    2187\n",
      "Name: y, dtype: int64\n"
     ]
    },
    {
     "data": {
      "image/png": "[encoded data removed]",
      "text/plain": [
       "<Figure size 432x288 with 1 Axes>"
      ]
     },
     "metadata": {
      "needs_background": "light"
     },
     "output_type": "display_data"
    }
   ],
   "source": [
    "plot_y(y_train_down)"
   ]
  },
  {
   "cell_type": "code",
   "execution_count": null,
   "id": "f6a29740",
   "metadata": {},
   "outputs": [],
   "source": []
  },
  {
   "cell_type": "code",
   "execution_count": 33,
   "id": "b636f572",
   "metadata": {},
   "outputs": [],
   "source": [
    "sme = SMOTEENN(random_state=22)\n",
    "x_train_union, y_train_union = sme.fit_resample(x_train_trans, y_train_trans)"
   ]
  },
  {
   "cell_type": "code",
   "execution_count": 34,
   "id": "76d32835",
   "metadata": {},
   "outputs": [
    {
     "name": "stdout",
     "output_type": "stream",
     "text": [
      "yes    24677\n",
      "no     19480\n",
      "Name: y, dtype: int64\n"
     ]
    },
    {
     "data": {
      "text/plain": [
       "[Text(0, 0, '24677'), Text(0, 0, '19480')]"
      ]
     },
     "execution_count": 34,
     "metadata": {},
     "output_type": "execute_result"
    },
    {
     "data": {
      "image/png": "[encoded data removed]",
      "text/plain": [
       "<Figure size 432x288 with 1 Axes>"
      ]
     },
     "metadata": {
      "needs_background": "light"
     },
     "output_type": "display_data"
    }
   ],
   "source": [
    "values = y_train_union.value_counts()\n",
    "names= ['yes', 'no']\n",
    "print(values)\n",
    "fig, ax = plt.subplots()\n",
    "bar_container = ax.bar(names, values, color=[\"lightgreen\", \"red\"])\n",
    "ax.set(ylabel='count', title='client subscribed')\n",
    "ax.bar_label(bar_container)"
   ]
  },
  {
   "cell_type": "code",
   "execution_count": null,
   "id": "d5cb615a",
   "metadata": {},
   "outputs": [],
   "source": []
  },
  {
   "cell_type": "code",
   "execution_count": 35,
   "id": "f7688dd6",
   "metadata": {},
   "outputs": [],
   "source": [
    "from sklearn.ensemble import RandomForestClassifier\n",
    "from sklearn.metrics import confusion_matrix, ConfusionMatrixDisplay\n",
    "from sklearn.metrics import precision_score, recall_score\n",
    "from sklearn.metrics import PrecisionRecallDisplay\n",
    "from sklearn.neighbors import KNeighborsClassifier\n",
    "from sklearn.linear_model import RidgeClassifier"
   ]
  },
  {
   "cell_type": "code",
   "execution_count": 36,
   "id": "79ad5bc6",
   "metadata": {},
   "outputs": [],
   "source": [
    "def eval_model(model, x_train, y_train, x_test, y_test):\n",
    "    model.fit(x_train, y_train)\n",
    "    y_pred = model.predict(x_test)\n",
    "    cm = confusion_matrix(y_test, y_pred)\n",
    "    disp = ConfusionMatrixDisplay(confusion_matrix=cm, display_labels=model.classes_)\n",
    "    disp.plot(cmap='Purples_r')\n",
    "    plt.show()\n",
    "    acc = model.score(x_test,y_test)\n",
    "    prec = precision_score(y_test, y_pred, average=\"binary\", pos_label=\"yes\")\n",
    "    rec = recall_score(y_test, y_pred, average=\"binary\", pos_label=\"yes\")\n",
    "    print('accuracy:', acc, '\\nprecision:', prec, '\\nrecall:', rec)\n",
    "    return [acc, prec, rec]"
   ]
  },
  {
   "cell_type": "markdown",
   "id": "c05f664e",
   "metadata": {},
   "source": [
    "### Modelli passando over"
   ]
  },
  {
   "cell_type": "code",
   "execution_count": 37,
   "id": "dc989277",
   "metadata": {
    "scrolled": true
   },
   "outputs": [
    {
     "data": {
      "image/png": "[encoded data removed]",
      "text/plain": [
       "<Figure size 432x288 with 2 Axes>"
      ]
     },
     "metadata": {
      "needs_background": "light"
     },
     "output_type": "display_data"
    },
    {
     "name": "stdout",
     "output_type": "stream",
     "text": [
      "accuracy: 0.8084276238782676 \n",
      "precision: 0.22033898305084745 \n",
      "recall: 0.6382070437566703\n"
     ]
    }
   ],
   "source": [
    "res_ridge_over = eval_model(RidgeClassifier(random_state=1), x_train_over, y_train_over, x_val_trans, y_val_trans)"
   ]
  },
  {
   "cell_type": "code",
   "execution_count": 38,
   "id": "9431813d",
   "metadata": {},
   "outputs": [
    {
     "data": {
      "image/png": "[encoded data removed]",
      "text/plain": [
       "<Figure size 432x288 with 2 Axes>"
      ]
     },
     "metadata": {
      "needs_background": "light"
     },
     "output_type": "display_data"
    },
    {
     "name": "stdout",
     "output_type": "stream",
     "text": [
      "accuracy: 0.7265704252828716 \n",
      "precision: 0.16740088105726872 \n",
      "recall: 0.6894343649946638\n"
     ]
    }
   ],
   "source": [
    "res_k_over = eval_model(KNeighborsClassifier(n_neighbors=50), x_train_over, y_train_over, x_val_trans, y_val_trans)"
   ]
  },
  {
   "cell_type": "code",
   "execution_count": 39,
   "id": "21770ccd",
   "metadata": {},
   "outputs": [
    {
     "data": {
      "image/png": "[encoded data removed]",
      "text/plain": [
       "<Figure size 432x288 with 2 Axes>"
      ]
     },
     "metadata": {
      "needs_background": "light"
     },
     "output_type": "display_data"
    },
    {
     "name": "stdout",
     "output_type": "stream",
     "text": [
      "accuracy: 0.9104955130706204 \n",
      "precision: 0.40591397849462363 \n",
      "recall: 0.4834578441835646\n"
     ]
    }
   ],
   "source": [
    "res_rf_over = eval_model(RandomForestClassifier(random_state=22, max_depth=30), x_train_over, y_train_over, x_val_trans, y_val_trans)"
   ]
  },
  {
   "cell_type": "markdown",
   "id": "51f2e9ea",
   "metadata": {},
   "source": [
    "### Modelli passando under"
   ]
  },
  {
   "cell_type": "code",
   "execution_count": 40,
   "id": "3d530f59",
   "metadata": {},
   "outputs": [
    {
     "data": {
      "image/png": "[encoded data removed]",
      "text/plain": [
       "<Figure size 432x288 with 2 Axes>"
      ]
     },
     "metadata": {
      "needs_background": "light"
     },
     "output_type": "display_data"
    },
    {
     "name": "stdout",
     "output_type": "stream",
     "text": [
      "accuracy: 0.8006242684354272 \n",
      "precision: 0.23158593231585933 \n",
      "recall: 0.7449306296691569\n"
     ]
    }
   ],
   "source": [
    "res_ridge_under = eval_model(RidgeClassifier(random_state=1), x_train_down, y_train_down, x_val_trans, y_val_trans)"
   ]
  },
  {
   "cell_type": "code",
   "execution_count": 41,
   "id": "7a2b9e8d",
   "metadata": {},
   "outputs": [
    {
     "data": {
      "image/png": "[encoded data removed]",
      "text/plain": [
       "<Figure size 432x288 with 2 Axes>"
      ]
     },
     "metadata": {
      "needs_background": "light"
     },
     "output_type": "display_data"
    },
    {
     "name": "stdout",
     "output_type": "stream",
     "text": [
      "accuracy: 0.7335154116269996 \n",
      "precision: 0.17117834394904458 \n",
      "recall: 0.688367129135539\n"
     ]
    }
   ],
   "source": [
    "res_k_under = eval_model(KNeighborsClassifier(n_neighbors=50), x_train_down, y_train_down, x_val_trans, y_val_trans)"
   ]
  },
  {
   "cell_type": "code",
   "execution_count": 42,
   "id": "3980213b",
   "metadata": {},
   "outputs": [
    {
     "data": {
      "image/png": "[encoded data removed]",
      "text/plain": [
       "<Figure size 432x288 with 2 Axes>"
      ]
     },
     "metadata": {
      "needs_background": "light"
     },
     "output_type": "display_data"
    },
    {
     "name": "stdout",
     "output_type": "stream",
     "text": [
      "accuracy: 0.8200546234880999 \n",
      "precision: 0.2708403080013391 \n",
      "recall: 0.8633938100320171\n"
     ]
    }
   ],
   "source": [
    "res_rf_under = eval_model(RandomForestClassifier(random_state=22, max_depth=30), x_train_down, y_train_down, x_val_trans, y_val_trans)"
   ]
  },
  {
   "cell_type": "markdown",
   "id": "94221ebb",
   "metadata": {},
   "source": [
    "### Modelli passando SMOTEEN"
   ]
  },
  {
   "cell_type": "code",
   "execution_count": 43,
   "id": "5986c8f0",
   "metadata": {},
   "outputs": [
    {
     "data": {
      "image/png": "[encoded data removed]",
      "text/plain": [
       "<Figure size 432x288 with 2 Axes>"
      ]
     },
     "metadata": {
      "needs_background": "light"
     },
     "output_type": "display_data"
    },
    {
     "name": "stdout",
     "output_type": "stream",
     "text": [
      "accuracy: 0.7793991416309013 \n",
      "precision: 0.20833333333333334 \n",
      "recall: 0.7203842049092849\n"
     ]
    }
   ],
   "source": [
    "res_ridge_union = eval_model(RidgeClassifier(random_state=1), x_train_union, y_train_union, x_val_trans, y_val_trans)"
   ]
  },
  {
   "cell_type": "code",
   "execution_count": 44,
   "id": "feb2a4da",
   "metadata": {},
   "outputs": [
    {
     "data": {
      "image/png": "[encoded data removed]",
      "text/plain": [
       "<Figure size 432x288 with 2 Axes>"
      ]
     },
     "metadata": {
      "needs_background": "light"
     },
     "output_type": "display_data"
    },
    {
     "name": "stdout",
     "output_type": "stream",
     "text": [
      "accuracy: 0.6636753804135779 \n",
      "precision: 0.15032137673647109 \n",
      "recall: 0.7737459978655283\n"
     ]
    }
   ],
   "source": [
    "res_k_union = eval_model(KNeighborsClassifier(n_neighbors=50), x_train_union, y_train_union, x_val_trans, y_val_trans)"
   ]
  },
  {
   "cell_type": "code",
   "execution_count": 45,
   "id": "ba6ac22d",
   "metadata": {},
   "outputs": [
    {
     "data": {
      "image/png": "[encoded data removed]",
      "text/plain": [
       "<Figure size 432x288 with 2 Axes>"
      ]
     },
     "metadata": {
      "needs_background": "light"
     },
     "output_type": "display_data"
    },
    {
     "name": "stdout",
     "output_type": "stream",
     "text": [
      "accuracy: 0.8775653531018338 \n",
      "precision: 0.33575883575883575 \n",
      "recall: 0.6894343649946638\n"
     ]
    }
   ],
   "source": [
    "res_rf_union = eval_model(RandomForestClassifier(random_state=22, max_depth=30), x_train_union, y_train_union, x_val_trans, y_val_trans)"
   ]
  },
  {
   "cell_type": "code",
   "execution_count": 46,
   "id": "0d6cf2f4",
   "metadata": {},
   "outputs": [
    {
     "data": {
      "text/html": [
       "<div>\n",
       "<style scoped>\n",
       "    .dataframe tbody tr th:only-of-type {\n",
       "        vertical-align: middle;\n",
       "    }\n",
       "\n",
       "    .dataframe tbody tr th {\n",
       "        vertical-align: top;\n",
       "    }\n",
       "\n",
       "    .dataframe thead th {\n",
       "        text-align: right;\n",
       "    }\n",
       "</style>\n",
       "<table border=\"1\" class=\"dataframe\">\n",
       "  <thead>\n",
       "    <tr style=\"text-align: right;\">\n",
       "      <th></th>\n",
       "      <th>Accuracy</th>\n",
       "      <th>Precision</th>\n",
       "      <th>Recall</th>\n",
       "      <th>Model</th>\n",
       "      <th>Sampling</th>\n",
       "    </tr>\n",
       "  </thead>\n",
       "  <tbody>\n",
       "    <tr>\n",
       "      <th>0</th>\n",
       "      <td>0.726570</td>\n",
       "      <td>0.167401</td>\n",
       "      <td>0.689434</td>\n",
       "      <td>KNN</td>\n",
       "      <td>Oversampling</td>\n",
       "    </tr>\n",
       "    <tr>\n",
       "      <th>1</th>\n",
       "      <td>0.733515</td>\n",
       "      <td>0.171178</td>\n",
       "      <td>0.688367</td>\n",
       "      <td>KNN</td>\n",
       "      <td>Undersampling</td>\n",
       "    </tr>\n",
       "    <tr>\n",
       "      <th>2</th>\n",
       "      <td>0.663675</td>\n",
       "      <td>0.150321</td>\n",
       "      <td>0.773746</td>\n",
       "      <td>KNN</td>\n",
       "      <td>SMOTEEN</td>\n",
       "    </tr>\n",
       "  </tbody>\n",
       "</table>\n",
       "</div>"
      ],
      "text/plain": [
       "   Accuracy  Precision    Recall Model       Sampling\n",
       "0  0.726570   0.167401  0.689434   KNN   Oversampling\n",
       "1  0.733515   0.171178  0.688367   KNN  Undersampling\n",
       "2  0.663675   0.150321  0.773746   KNN        SMOTEEN"
      ]
     },
     "execution_count": 46,
     "metadata": {},
     "output_type": "execute_result"
    }
   ],
   "source": [
    "val = list([res_k_over[0],res_k_over[1],res_k_over[2],'KNN','Oversampling',\n",
    "            res_k_under[0], res_k_under[1],res_k_under[2],'KNN','Undersampling',\n",
    "            res_k_union[0], res_k_union[1], res_k_union[2], 'KNN', 'SMOTEEN'])\n",
    "df_res_k = pd.DataFrame ([val[0:5], val[5:10], val[10:15]], columns = ['Accuracy','Precision','Recall','Model','Sampling'])\n",
    "df_res_k"
   ]
  },
  {
   "cell_type": "code",
   "execution_count": 47,
   "id": "6f5d754c",
   "metadata": {},
   "outputs": [
    {
     "data": {
      "text/html": [
       "<div>\n",
       "<style scoped>\n",
       "    .dataframe tbody tr th:only-of-type {\n",
       "        vertical-align: middle;\n",
       "    }\n",
       "\n",
       "    .dataframe tbody tr th {\n",
       "        vertical-align: top;\n",
       "    }\n",
       "\n",
       "    .dataframe thead th {\n",
       "        text-align: right;\n",
       "    }\n",
       "</style>\n",
       "<table border=\"1\" class=\"dataframe\">\n",
       "  <thead>\n",
       "    <tr style=\"text-align: right;\">\n",
       "      <th></th>\n",
       "      <th>Accuracy</th>\n",
       "      <th>Precision</th>\n",
       "      <th>Recall</th>\n",
       "      <th>Model</th>\n",
       "      <th>Sampling</th>\n",
       "    </tr>\n",
       "  </thead>\n",
       "  <tbody>\n",
       "    <tr>\n",
       "      <th>0</th>\n",
       "      <td>0.910496</td>\n",
       "      <td>0.405914</td>\n",
       "      <td>0.483458</td>\n",
       "      <td>Random Forest</td>\n",
       "      <td>Oversampling</td>\n",
       "    </tr>\n",
       "    <tr>\n",
       "      <th>1</th>\n",
       "      <td>0.820055</td>\n",
       "      <td>0.270840</td>\n",
       "      <td>0.863394</td>\n",
       "      <td>Random Forest</td>\n",
       "      <td>Undersampling</td>\n",
       "    </tr>\n",
       "    <tr>\n",
       "      <th>2</th>\n",
       "      <td>0.877565</td>\n",
       "      <td>0.335759</td>\n",
       "      <td>0.689434</td>\n",
       "      <td>Random Forest</td>\n",
       "      <td>SMOTEEN</td>\n",
       "    </tr>\n",
       "  </tbody>\n",
       "</table>\n",
       "</div>"
      ],
      "text/plain": [
       "   Accuracy  Precision    Recall          Model       Sampling\n",
       "0  0.910496   0.405914  0.483458  Random Forest   Oversampling\n",
       "1  0.820055   0.270840  0.863394  Random Forest  Undersampling\n",
       "2  0.877565   0.335759  0.689434  Random Forest        SMOTEEN"
      ]
     },
     "execution_count": 47,
     "metadata": {},
     "output_type": "execute_result"
    }
   ],
   "source": [
    "val = list([res_rf_over[0],res_rf_over[1],res_rf_over[2],'Random Forest','Oversampling',\n",
    "            res_rf_under[0], res_rf_under[1],res_rf_under[2],'Random Forest','Undersampling',\n",
    "            res_rf_union[0], res_rf_union[1], res_rf_union[2], 'Random Forest', 'SMOTEEN'])\n",
    "df_res_rf = pd.DataFrame ([val[0:5], val[5:10], val[10:15]], columns = ['Accuracy','Precision','Recall','Model','Sampling'])\n",
    "df_res_rf"
   ]
  },
  {
   "cell_type": "code",
   "execution_count": 48,
   "id": "a9293f42",
   "metadata": {},
   "outputs": [
    {
     "data": {
      "text/html": [
       "<div>\n",
       "<style scoped>\n",
       "    .dataframe tbody tr th:only-of-type {\n",
       "        vertical-align: middle;\n",
       "    }\n",
       "\n",
       "    .dataframe tbody tr th {\n",
       "        vertical-align: top;\n",
       "    }\n",
       "\n",
       "    .dataframe thead th {\n",
       "        text-align: right;\n",
       "    }\n",
       "</style>\n",
       "<table border=\"1\" class=\"dataframe\">\n",
       "  <thead>\n",
       "    <tr style=\"text-align: right;\">\n",
       "      <th></th>\n",
       "      <th>Accuracy</th>\n",
       "      <th>Precision</th>\n",
       "      <th>Recall</th>\n",
       "      <th>Model</th>\n",
       "      <th>Sampling</th>\n",
       "    </tr>\n",
       "  </thead>\n",
       "  <tbody>\n",
       "    <tr>\n",
       "      <th>0</th>\n",
       "      <td>0.808428</td>\n",
       "      <td>0.220339</td>\n",
       "      <td>0.638207</td>\n",
       "      <td>Ridge</td>\n",
       "      <td>Oversampling</td>\n",
       "    </tr>\n",
       "    <tr>\n",
       "      <th>1</th>\n",
       "      <td>0.800624</td>\n",
       "      <td>0.231586</td>\n",
       "      <td>0.744931</td>\n",
       "      <td>Ridge</td>\n",
       "      <td>Undersampling</td>\n",
       "    </tr>\n",
       "    <tr>\n",
       "      <th>2</th>\n",
       "      <td>0.779399</td>\n",
       "      <td>0.208333</td>\n",
       "      <td>0.720384</td>\n",
       "      <td>Ridge</td>\n",
       "      <td>SMOTEEN</td>\n",
       "    </tr>\n",
       "  </tbody>\n",
       "</table>\n",
       "</div>"
      ],
      "text/plain": [
       "   Accuracy  Precision    Recall  Model       Sampling\n",
       "0  0.808428   0.220339  0.638207  Ridge   Oversampling\n",
       "1  0.800624   0.231586  0.744931  Ridge  Undersampling\n",
       "2  0.779399   0.208333  0.720384  Ridge        SMOTEEN"
      ]
     },
     "execution_count": 48,
     "metadata": {},
     "output_type": "execute_result"
    }
   ],
   "source": [
    "val = list([res_ridge_over[0],res_ridge_over[1],res_ridge_over[2],'Ridge','Oversampling',\n",
    "            res_ridge_under[0], res_ridge_under[1],res_ridge_under[2],'Ridge','Undersampling',\n",
    "            res_ridge_union[0], res_ridge_union[1], res_ridge_union[2], 'Ridge', 'SMOTEEN'])\n",
    "df_res_ridge = pd.DataFrame ([val[0:5], val[5:10], val[10:15]], columns = ['Accuracy','Precision','Recall','Model','Sampling'])\n",
    "df_res_ridge"
   ]
  },
  {
   "cell_type": "code",
   "execution_count": null,
   "id": "65bc4dd2",
   "metadata": {},
   "outputs": [],
   "source": []
  },
  {
   "cell_type": "code",
   "execution_count": 49,
   "id": "ac6b7ed5",
   "metadata": {},
   "outputs": [
    {
     "data": {
      "image/png": "[encoded data removed]",
      "text/plain": [
       "<Figure size 432x288 with 1 Axes>"
      ]
     },
     "metadata": {
      "needs_background": "light"
     },
     "output_type": "display_data"
    }
   ],
   "source": [
    "df_finale = pd.concat([df_res_k, df_res_rf, df_res_ridge])\n",
    "ax = sns.pointplot(data=df_finale, x=\"Model\", y=\"Accuracy\", hue='Sampling', kind=\"point\")\n",
    "plt.title(\"Accuracy\")\n",
    "plt.show()"
   ]
  },
  {
   "cell_type": "code",
   "execution_count": 50,
   "id": "b99cea22",
   "metadata": {},
   "outputs": [
    {
     "data": {
      "image/png": "[encoded data removed]",
      "text/plain": [
       "<Figure size 432x288 with 1 Axes>"
      ]
     },
     "metadata": {
      "needs_background": "light"
     },
     "output_type": "display_data"
    }
   ],
   "source": [
    "ax = sns.pointplot(data=df_finale, x=\"Model\", y=\"Precision\", hue='Sampling', kind=\"point\")\n",
    "plt.title(\"Precision\")\n",
    "plt.show()"
   ]
  },
  {
   "cell_type": "code",
   "execution_count": 51,
   "id": "b7c4ab55",
   "metadata": {},
   "outputs": [
    {
     "data": {
      "image/png": "[encoded data removed]",
      "text/plain": [
       "<Figure size 432x288 with 1 Axes>"
      ]
     },
     "metadata": {
      "needs_background": "light"
     },
     "output_type": "display_data"
    }
   ],
   "source": [
    "ax = sns.pointplot(data=df_finale, x=\"Model\", y=\"Recall\", hue='Sampling', kind=\"point\")\n",
    "plt.title(\"Recall\")\n",
    "plt.show()"
   ]
  },
  {
   "cell_type": "code",
   "execution_count": null,
   "id": "1f63856d",
   "metadata": {},
   "outputs": [],
   "source": [
    "# dei modelli utilizzati sembra performare meglio il Random Forest e il peggiore è la Ridge.\n",
    "# Come metodo per il sampling ottiene dei risultati migliori l'oversampling, anche rispetto alla tecnica più avanzata smoteen.\n",
    "# In generale al crescere della precision cala la recall, quindi bisogna scegliere un modello che trovi il giusto equilibrio.\n",
    "# Questo potrebbe essere il Random forest usando la tecnica SMOTEEN, poichè ha il secondo valore più alto di Precision \n",
    "# perdendo poco in Recall, mentre usando l'oversampling (miglior valore di precision) c'è un netto peggioramento nella recall."
   ]
  }
 ],
 "metadata": {
  "kernelspec": {
   "display_name": "Python 3 (ipykernel)",
   "language": "python",
   "name": "python3"
  },
  "language_info": {
   "codemirror_mode": {
    "name": "ipython",
    "version": 3
   },
   "file_extension": ".py",
   "mimetype": "text/x-python",
   "name": "python",
   "nbconvert_exporter": "python",
   "pygments_lexer": "ipython3",
   "version": "3.9.7"
  }
 },
 "nbformat": 4,
 "nbformat_minor": 5
}
